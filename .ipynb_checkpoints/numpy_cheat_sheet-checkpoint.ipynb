{
 "cells": [
  {
   "cell_type": "code",
   "execution_count": 1,
   "metadata": {},
   "outputs": [
    {
     "name": "stdout",
     "output_type": "stream",
     "text": [
      "******** The University Management Software ***********\n",
      "Select your desired action for maintain the school properly : \n",
      "               1. Admission\n",
      "               2. Information\n",
      "               3. Student Login\n",
      "               \n",
      "    1\n",
      "Creating admission form and required documents.Wait a minute dear !\n"
     ]
    }
   ],
   "source": [
    "print(\"******** The University Management Software ***********\")\n",
    "s=1\n",
    "while s == 1:\n",
    "    action = input(\"\"\"Select your desired action for maintain the school properly : \n",
    "               1. Admission\n",
    "               2. Information\n",
    "               3. Student Login\n",
    "               \n",
    "    \"\"\")\n",
    "\n",
    "    if action == \"1\":\n",
    "        print(\"Creating admission form and required documents.Wait a minute dear !\")\n",
    "        s=0\n",
    "    elif action == \"2\":\n",
    "        print(\"Information page\")\n",
    "        s=0\n",
    "    elif action == \"3\":\n",
    "        print(\"Student Login page\")\n",
    "        s=0\n",
    "    else :\n",
    "        repeat = input(\"\"\"\"Would you like to edit your choice??? Yes or NO???\"\"\")\n",
    "        if repeat == \"No\":\n",
    "            print(\"Thanks for using this software.Have a good day !\")\n",
    "            s = 0\n",
    "    \n",
    "        \n"
   ]
  },
  {
   "cell_type": "code",
   "execution_count": 1,
   "metadata": {
    "ExecuteTime": {
     "end_time": "2019-12-01T09:41:35.796263Z",
     "start_time": "2019-12-01T09:41:17.007667Z"
    },
    "scrolled": true
   },
   "outputs": [
    {
     "name": "stdout",
     "output_type": "stream",
     "text": [
      "Collecting autopep8\n",
      "  Downloading https://files.pythonhosted.org/packages/45/f3/24b437da561b6af4840c871fbbda32889ca304fc1f7b6cc3ada8b09f394a/autopep8-1.4.4.tar.gz (114kB)\n",
      "Collecting pycodestyle>=2.4.0\n",
      "  Downloading https://files.pythonhosted.org/packages/0e/0c/04a353e104d2f324f8ee5f4b32012618c1c86dd79e52a433b64fceed511b/pycodestyle-2.5.0-py2.py3-none-any.whl (51kB)\n",
      "Building wheels for collected packages: autopep8\n",
      "  Building wheel for autopep8 (setup.py): started\n",
      "  Building wheel for autopep8 (setup.py): finished with status 'done'\n",
      "  Created wheel for autopep8: filename=autopep8-1.4.4-py2.py3-none-any.whl size=42635 sha256=fa4ccb55322b7bc4159bda2e38fcf2d33d42959ce4de3357b7d14121bb7f4ead\n",
      "  Stored in directory: C:\\Users\\USER\\AppData\\Local\\pip\\Cache\\wheels\\7e\\f5\\4b\\c19e6276126325eb8071b273347c05a830c37a82b9b3b81510\n",
      "Successfully built autopep8\n",
      "Installing collected packages: pycodestyle, autopep8\n",
      "Successfully installed autopep8-1.4.4 pycodestyle-2.5.0\n",
      "Note: you may need to restart the kernel to use updated packages.\n"
     ]
    },
    {
     "name": "stderr",
     "output_type": "stream",
     "text": [
      "  WARNING: The script pycodestyle.exe is installed in 'C:\\Users\\USER\\AppData\\Roaming\\Python\\Python37\\Scripts' which is not on PATH.\n",
      "  Consider adding this directory to PATH or, if you prefer to suppress this warning, use --no-warn-script-location.\n",
      "  WARNING: The script autopep8.exe is installed in 'C:\\Users\\USER\\AppData\\Roaming\\Python\\Python37\\Scripts' which is not on PATH.\n",
      "  Consider adding this directory to PATH or, if you prefer to suppress this warning, use --no-warn-script-location.\n"
     ]
    }
   ],
   "source": [
    "pip install autopep8 --user\n"
   ]
  },
  {
   "cell_type": "code",
   "execution_count": null,
   "metadata": {},
   "outputs": [],
   "source": []
  }
 ],
 "metadata": {
  "hide_input": false,
  "kernelspec": {
   "display_name": "Python 3",
   "language": "python",
   "name": "python3"
  },
  "language_info": {
   "codemirror_mode": {
    "name": "ipython",
    "version": 3
   },
   "file_extension": ".py",
   "mimetype": "text/x-python",
   "name": "python",
   "nbconvert_exporter": "python",
   "pygments_lexer": "ipython3",
   "version": "3.7.4"
  },
  "toc": {
   "base_numbering": 1,
   "nav_menu": {},
   "number_sections": true,
   "sideBar": true,
   "skip_h1_title": false,
   "title_cell": "Table of Contents",
   "title_sidebar": "Contents",
   "toc_cell": false,
   "toc_position": {},
   "toc_section_display": true,
   "toc_window_display": false
  }
 },
 "nbformat": 4,
 "nbformat_minor": 2
}
