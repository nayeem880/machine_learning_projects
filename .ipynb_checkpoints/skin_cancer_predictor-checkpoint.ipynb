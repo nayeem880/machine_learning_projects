{
 "cells": [
  {
   "cell_type": "code",
   "execution_count": 2,
   "metadata": {
    "ExecuteTime": {
     "end_time": "2019-12-02T05:25:46.767803Z",
     "start_time": "2019-12-02T05:25:45.778534Z"
    },
    "scrolled": true
   },
   "outputs": [
    {
     "name": "stdout",
     "output_type": "stream",
     "text": [
      "       pixel0000  pixel0001  pixel0002  pixel0003  pixel0004  pixel0005  \\\n",
      "0            172        182        191        183        180        181   \n",
      "1             98        149        170        193        183        162   \n",
      "2            165        164        179        172        152        163   \n",
      "3            109        159        167        166        163        159   \n",
      "4            173        202        210        194        208        248   \n",
      "...          ...        ...        ...        ...        ...        ...   \n",
      "10010        193        192        191        198        182        191   \n",
      "10011         93        139        165        183        188        180   \n",
      "10012        165        191        211        227        222        208   \n",
      "10013        138        152        154        161        173        177   \n",
      "10014        152        152        150        148        156        159   \n",
      "\n",
      "       pixel0006  pixel0007  pixel0008  pixel0009  ...  pixel0055  pixel0056  \\\n",
      "0            165        164        173        192  ...        159        171   \n",
      "1            164        100        137        175  ...        135         83   \n",
      "2            169        151        168        174  ...        169        152   \n",
      "3            155         96        141        168  ...        101         79   \n",
      "4            243        205        180        142  ...        230        160   \n",
      "...          ...        ...        ...        ...  ...        ...        ...   \n",
      "10010        213        202        199        204  ...        202        206   \n",
      "10011        150         65        147        164  ...        137        145   \n",
      "10012        210        164        193        203  ...        189        184   \n",
      "10013        179        171        144        157  ...        172        143   \n",
      "10014        158        163        153        155  ...        140        143   \n",
      "\n",
      "       pixel0057  pixel0058  pixel0059  pixel0060  pixel0061  pixel0062  \\\n",
      "0            181        201        192        184        183        171   \n",
      "1            159        186        185        192        181        143   \n",
      "2            171        185        189        193        176        168   \n",
      "3            146        170        167        158        154        133   \n",
      "4            199        206        208        209        205        200   \n",
      "...          ...        ...        ...        ...        ...        ...   \n",
      "10010        215        211        207        196        212        205   \n",
      "10011        185        194        186        183        180        161   \n",
      "10012        223        227        218        217        223        207   \n",
      "10013        161        167        166        174        184        175   \n",
      "10014        151        153        156        157        163        117   \n",
      "\n",
      "       pixel0063  label  \n",
      "0            157      2  \n",
      "1             58      2  \n",
      "2            151      2  \n",
      "3             45      2  \n",
      "4            186      2  \n",
      "...          ...    ...  \n",
      "10010        191      0  \n",
      "10011         88      0  \n",
      "10012        182      0  \n",
      "10013        168      0  \n",
      "10014        120      6  \n",
      "\n",
      "[10015 rows x 65 columns]\n"
     ]
    }
   ],
   "source": [
    "import numpy as np\n",
    "import scipy as sp\n",
    "import pandas as pd\n",
    "import matplotlib.pyplot as plt \n",
    "\n",
    "data = pd.read_csv(\"F:\\Data\\hmnist_8_8_L.csv\")\n",
    "print(data)"
   ]
  },
  {
   "cell_type": "code",
   "execution_count": 3,
   "metadata": {
    "ExecuteTime": {
     "end_time": "2019-12-02T05:25:48.865264Z",
     "start_time": "2019-12-02T05:25:48.857288Z"
    }
   },
   "outputs": [
    {
     "data": {
      "text/plain": [
       "(10015, 65)"
      ]
     },
     "execution_count": 3,
     "metadata": {},
     "output_type": "execute_result"
    }
   ],
   "source": [
    "data.shape"
   ]
  },
  {
   "cell_type": "code",
   "execution_count": 4,
   "metadata": {
    "ExecuteTime": {
     "end_time": "2019-12-02T05:25:50.646980Z",
     "start_time": "2019-12-02T05:25:50.638009Z"
    }
   },
   "outputs": [
    {
     "data": {
      "text/plain": [
       "650975"
      ]
     },
     "execution_count": 4,
     "metadata": {},
     "output_type": "execute_result"
    }
   ],
   "source": [
    "data.size"
   ]
  },
  {
   "cell_type": "code",
   "execution_count": 5,
   "metadata": {
    "ExecuteTime": {
     "end_time": "2019-12-02T05:25:52.699342Z",
     "start_time": "2019-12-02T05:25:52.487433Z"
    }
   },
   "outputs": [
    {
     "data": {
      "text/html": [
       "<div>\n",
       "<style scoped>\n",
       "    .dataframe tbody tr th:only-of-type {\n",
       "        vertical-align: middle;\n",
       "    }\n",
       "\n",
       "    .dataframe tbody tr th {\n",
       "        vertical-align: top;\n",
       "    }\n",
       "\n",
       "    .dataframe thead th {\n",
       "        text-align: right;\n",
       "    }\n",
       "</style>\n",
       "<table border=\"1\" class=\"dataframe\">\n",
       "  <thead>\n",
       "    <tr style=\"text-align: right;\">\n",
       "      <th></th>\n",
       "      <th>pixel0000</th>\n",
       "      <th>pixel0001</th>\n",
       "      <th>pixel0002</th>\n",
       "      <th>pixel0003</th>\n",
       "      <th>pixel0004</th>\n",
       "      <th>pixel0005</th>\n",
       "      <th>pixel0006</th>\n",
       "      <th>pixel0007</th>\n",
       "      <th>pixel0008</th>\n",
       "      <th>pixel0009</th>\n",
       "      <th>...</th>\n",
       "      <th>pixel0055</th>\n",
       "      <th>pixel0056</th>\n",
       "      <th>pixel0057</th>\n",
       "      <th>pixel0058</th>\n",
       "      <th>pixel0059</th>\n",
       "      <th>pixel0060</th>\n",
       "      <th>pixel0061</th>\n",
       "      <th>pixel0062</th>\n",
       "      <th>pixel0063</th>\n",
       "      <th>label</th>\n",
       "    </tr>\n",
       "  </thead>\n",
       "  <tbody>\n",
       "    <tr>\n",
       "      <td>count</td>\n",
       "      <td>10015.000000</td>\n",
       "      <td>10015.000000</td>\n",
       "      <td>10015.000000</td>\n",
       "      <td>10015.000000</td>\n",
       "      <td>10015.000000</td>\n",
       "      <td>10015.000000</td>\n",
       "      <td>10015.000000</td>\n",
       "      <td>10015.000000</td>\n",
       "      <td>10015.000000</td>\n",
       "      <td>10015.000000</td>\n",
       "      <td>...</td>\n",
       "      <td>10015.000000</td>\n",
       "      <td>10015.000000</td>\n",
       "      <td>10015.000000</td>\n",
       "      <td>10015.000000</td>\n",
       "      <td>10015.000000</td>\n",
       "      <td>10015.000000</td>\n",
       "      <td>10015.000000</td>\n",
       "      <td>10015.000000</td>\n",
       "      <td>10015.000000</td>\n",
       "      <td>10015.000000</td>\n",
       "    </tr>\n",
       "    <tr>\n",
       "      <td>mean</td>\n",
       "      <td>156.511533</td>\n",
       "      <td>167.292461</td>\n",
       "      <td>171.177933</td>\n",
       "      <td>171.134199</td>\n",
       "      <td>171.372641</td>\n",
       "      <td>171.535597</td>\n",
       "      <td>167.875087</td>\n",
       "      <td>156.103045</td>\n",
       "      <td>161.946880</td>\n",
       "      <td>168.198203</td>\n",
       "      <td>...</td>\n",
       "      <td>159.674488</td>\n",
       "      <td>152.949176</td>\n",
       "      <td>164.089965</td>\n",
       "      <td>167.266400</td>\n",
       "      <td>167.077983</td>\n",
       "      <td>167.451423</td>\n",
       "      <td>167.852322</td>\n",
       "      <td>164.511233</td>\n",
       "      <td>152.323615</td>\n",
       "      <td>3.720919</td>\n",
       "    </tr>\n",
       "    <tr>\n",
       "      <td>std</td>\n",
       "      <td>37.482126</td>\n",
       "      <td>26.222928</td>\n",
       "      <td>23.467171</td>\n",
       "      <td>23.795547</td>\n",
       "      <td>23.776595</td>\n",
       "      <td>23.354094</td>\n",
       "      <td>25.726513</td>\n",
       "      <td>37.252888</td>\n",
       "      <td>29.992239</td>\n",
       "      <td>24.419041</td>\n",
       "      <td>...</td>\n",
       "      <td>29.590557</td>\n",
       "      <td>35.247465</td>\n",
       "      <td>25.029972</td>\n",
       "      <td>23.892399</td>\n",
       "      <td>24.556616</td>\n",
       "      <td>24.237219</td>\n",
       "      <td>23.627575</td>\n",
       "      <td>25.727107</td>\n",
       "      <td>37.570423</td>\n",
       "      <td>1.347499</td>\n",
       "    </tr>\n",
       "    <tr>\n",
       "      <td>min</td>\n",
       "      <td>0.000000</td>\n",
       "      <td>2.000000</td>\n",
       "      <td>12.000000</td>\n",
       "      <td>25.000000</td>\n",
       "      <td>13.000000</td>\n",
       "      <td>1.000000</td>\n",
       "      <td>1.000000</td>\n",
       "      <td>0.000000</td>\n",
       "      <td>0.000000</td>\n",
       "      <td>3.000000</td>\n",
       "      <td>...</td>\n",
       "      <td>2.000000</td>\n",
       "      <td>1.000000</td>\n",
       "      <td>2.000000</td>\n",
       "      <td>4.000000</td>\n",
       "      <td>1.000000</td>\n",
       "      <td>0.000000</td>\n",
       "      <td>0.000000</td>\n",
       "      <td>5.000000</td>\n",
       "      <td>0.000000</td>\n",
       "      <td>0.000000</td>\n",
       "    </tr>\n",
       "    <tr>\n",
       "      <td>25%</td>\n",
       "      <td>143.000000</td>\n",
       "      <td>153.000000</td>\n",
       "      <td>157.000000</td>\n",
       "      <td>157.000000</td>\n",
       "      <td>157.000000</td>\n",
       "      <td>157.000000</td>\n",
       "      <td>153.000000</td>\n",
       "      <td>141.000000</td>\n",
       "      <td>148.000000</td>\n",
       "      <td>154.000000</td>\n",
       "      <td>...</td>\n",
       "      <td>145.000000</td>\n",
       "      <td>139.000000</td>\n",
       "      <td>149.000000</td>\n",
       "      <td>153.000000</td>\n",
       "      <td>152.000000</td>\n",
       "      <td>153.000000</td>\n",
       "      <td>153.000000</td>\n",
       "      <td>149.000000</td>\n",
       "      <td>138.000000</td>\n",
       "      <td>4.000000</td>\n",
       "    </tr>\n",
       "    <tr>\n",
       "      <td>50%</td>\n",
       "      <td>163.000000</td>\n",
       "      <td>169.000000</td>\n",
       "      <td>172.000000</td>\n",
       "      <td>172.000000</td>\n",
       "      <td>173.000000</td>\n",
       "      <td>173.000000</td>\n",
       "      <td>170.000000</td>\n",
       "      <td>163.000000</td>\n",
       "      <td>165.000000</td>\n",
       "      <td>169.000000</td>\n",
       "      <td>...</td>\n",
       "      <td>163.000000</td>\n",
       "      <td>159.000000</td>\n",
       "      <td>165.000000</td>\n",
       "      <td>168.000000</td>\n",
       "      <td>168.000000</td>\n",
       "      <td>168.000000</td>\n",
       "      <td>169.000000</td>\n",
       "      <td>166.000000</td>\n",
       "      <td>159.000000</td>\n",
       "      <td>4.000000</td>\n",
       "    </tr>\n",
       "    <tr>\n",
       "      <td>75%</td>\n",
       "      <td>179.000000</td>\n",
       "      <td>184.000000</td>\n",
       "      <td>186.000000</td>\n",
       "      <td>186.000000</td>\n",
       "      <td>187.000000</td>\n",
       "      <td>187.000000</td>\n",
       "      <td>185.000000</td>\n",
       "      <td>180.000000</td>\n",
       "      <td>180.000000</td>\n",
       "      <td>184.000000</td>\n",
       "      <td>...</td>\n",
       "      <td>178.000000</td>\n",
       "      <td>174.000000</td>\n",
       "      <td>180.000000</td>\n",
       "      <td>182.000000</td>\n",
       "      <td>183.000000</td>\n",
       "      <td>183.000000</td>\n",
       "      <td>183.000000</td>\n",
       "      <td>181.000000</td>\n",
       "      <td>176.000000</td>\n",
       "      <td>4.000000</td>\n",
       "    </tr>\n",
       "    <tr>\n",
       "      <td>max</td>\n",
       "      <td>251.000000</td>\n",
       "      <td>255.000000</td>\n",
       "      <td>253.000000</td>\n",
       "      <td>249.000000</td>\n",
       "      <td>249.000000</td>\n",
       "      <td>255.000000</td>\n",
       "      <td>252.000000</td>\n",
       "      <td>242.000000</td>\n",
       "      <td>255.000000</td>\n",
       "      <td>249.000000</td>\n",
       "      <td>...</td>\n",
       "      <td>252.000000</td>\n",
       "      <td>251.000000</td>\n",
       "      <td>255.000000</td>\n",
       "      <td>254.000000</td>\n",
       "      <td>248.000000</td>\n",
       "      <td>248.000000</td>\n",
       "      <td>253.000000</td>\n",
       "      <td>255.000000</td>\n",
       "      <td>252.000000</td>\n",
       "      <td>6.000000</td>\n",
       "    </tr>\n",
       "  </tbody>\n",
       "</table>\n",
       "<p>8 rows × 65 columns</p>\n",
       "</div>"
      ],
      "text/plain": [
       "          pixel0000     pixel0001     pixel0002     pixel0003     pixel0004  \\\n",
       "count  10015.000000  10015.000000  10015.000000  10015.000000  10015.000000   \n",
       "mean     156.511533    167.292461    171.177933    171.134199    171.372641   \n",
       "std       37.482126     26.222928     23.467171     23.795547     23.776595   \n",
       "min        0.000000      2.000000     12.000000     25.000000     13.000000   \n",
       "25%      143.000000    153.000000    157.000000    157.000000    157.000000   \n",
       "50%      163.000000    169.000000    172.000000    172.000000    173.000000   \n",
       "75%      179.000000    184.000000    186.000000    186.000000    187.000000   \n",
       "max      251.000000    255.000000    253.000000    249.000000    249.000000   \n",
       "\n",
       "          pixel0005     pixel0006     pixel0007     pixel0008     pixel0009  \\\n",
       "count  10015.000000  10015.000000  10015.000000  10015.000000  10015.000000   \n",
       "mean     171.535597    167.875087    156.103045    161.946880    168.198203   \n",
       "std       23.354094     25.726513     37.252888     29.992239     24.419041   \n",
       "min        1.000000      1.000000      0.000000      0.000000      3.000000   \n",
       "25%      157.000000    153.000000    141.000000    148.000000    154.000000   \n",
       "50%      173.000000    170.000000    163.000000    165.000000    169.000000   \n",
       "75%      187.000000    185.000000    180.000000    180.000000    184.000000   \n",
       "max      255.000000    252.000000    242.000000    255.000000    249.000000   \n",
       "\n",
       "       ...     pixel0055     pixel0056     pixel0057     pixel0058  \\\n",
       "count  ...  10015.000000  10015.000000  10015.000000  10015.000000   \n",
       "mean   ...    159.674488    152.949176    164.089965    167.266400   \n",
       "std    ...     29.590557     35.247465     25.029972     23.892399   \n",
       "min    ...      2.000000      1.000000      2.000000      4.000000   \n",
       "25%    ...    145.000000    139.000000    149.000000    153.000000   \n",
       "50%    ...    163.000000    159.000000    165.000000    168.000000   \n",
       "75%    ...    178.000000    174.000000    180.000000    182.000000   \n",
       "max    ...    252.000000    251.000000    255.000000    254.000000   \n",
       "\n",
       "          pixel0059     pixel0060     pixel0061     pixel0062     pixel0063  \\\n",
       "count  10015.000000  10015.000000  10015.000000  10015.000000  10015.000000   \n",
       "mean     167.077983    167.451423    167.852322    164.511233    152.323615   \n",
       "std       24.556616     24.237219     23.627575     25.727107     37.570423   \n",
       "min        1.000000      0.000000      0.000000      5.000000      0.000000   \n",
       "25%      152.000000    153.000000    153.000000    149.000000    138.000000   \n",
       "50%      168.000000    168.000000    169.000000    166.000000    159.000000   \n",
       "75%      183.000000    183.000000    183.000000    181.000000    176.000000   \n",
       "max      248.000000    248.000000    253.000000    255.000000    252.000000   \n",
       "\n",
       "              label  \n",
       "count  10015.000000  \n",
       "mean       3.720919  \n",
       "std        1.347499  \n",
       "min        0.000000  \n",
       "25%        4.000000  \n",
       "50%        4.000000  \n",
       "75%        4.000000  \n",
       "max        6.000000  \n",
       "\n",
       "[8 rows x 65 columns]"
      ]
     },
     "execution_count": 5,
     "metadata": {},
     "output_type": "execute_result"
    }
   ],
   "source": [
    "data.describe()\n"
   ]
  },
  {
   "cell_type": "code",
   "execution_count": 31,
   "metadata": {
    "ExecuteTime": {
     "end_time": "2019-12-02T05:32:51.841151Z",
     "start_time": "2019-12-02T05:32:51.674597Z"
    }
   },
   "outputs": [
    {
     "data": {
      "text/plain": [
       "<matplotlib.image.AxesImage at 0x559b970>"
      ]
     },
     "execution_count": 31,
     "metadata": {},
     "output_type": "execute_result"
    },
    {
     "data": {
      "image/png": "[encoded data removed]",
      "text/plain": [
       "<Figure size 432x288 with 1 Axes>"
      ]
     },
     "metadata": {
      "needs_background": "light"
     },
     "output_type": "display_data"
    }
   ],
   "source": [
    "plt.imshow(data.head())"
   ]
  },
  {
   "cell_type": "code",
   "execution_count": null,
   "metadata": {
    "ExecuteTime": {
     "end_time": "2019-12-02T05:38:11.872744Z",
     "start_time": "2019-12-02T05:38:11.540578Z"
    }
   },
   "outputs": [],
   "source": []
  },
  {
   "cell_type": "code",
   "execution_count": null,
   "metadata": {},
   "outputs": [],
   "source": []
  }
 ],
 "metadata": {
  "hide_input": false,
  "kernelspec": {
   "display_name": "Python 3",
   "language": "python",
   "name": "python3"
  },
  "language_info": {
   "codemirror_mode": {
    "name": "ipython",
    "version": 3
   },
   "file_extension": ".py",
   "mimetype": "text/x-python",
   "name": "python",
   "nbconvert_exporter": "python",
   "pygments_lexer": "ipython3",
   "version": "3.7.4"
  },
  "toc": {
   "base_numbering": 1,
   "nav_menu": {},
   "number_sections": true,
   "sideBar": true,
   "skip_h1_title": false,
   "title_cell": "Table of Contents",
   "title_sidebar": "Contents",
   "toc_cell": false,
   "toc_position": {},
   "toc_section_display": true,
   "toc_window_display": false
  }
 },
 "nbformat": 4,
 "nbformat_minor": 2
}
